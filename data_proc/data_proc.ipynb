{
 "cells": [
  {
   "cell_type": "code",
   "execution_count": 2,
   "id": "f705c920-308c-41cc-96d0-7e45bc9356ec",
   "metadata": {
    "tags": []
   },
   "outputs": [],
   "source": [
    "# import modules\n",
    "import matplotlib.pyplot as plt\n",
    "import pandas as pd\n",
    "import seaborn as sb\n",
    "import numpy as np\n",
    "\n",
    "from matplotlib import cm\n",
    "from matplotlib.colors import ListedColormap, LinearSegmentedColormap"
   ]
  },
  {
   "cell_type": "code",
   "execution_count": 3,
   "id": "8259e923-50e1-4fa8-9d08-a5a922a0a574",
   "metadata": {
    "tags": []
   },
   "outputs": [],
   "source": [
    "data_serial = pd.read_csv(\"../data/serial_experiments.csv\")\n",
    "data_cuda = pd.read_csv(\"../data/cuda_experiments.csv\")"
   ]
  },
  {
   "cell_type": "code",
   "execution_count": 4,
   "id": "863add45-ab82-49f4-9f18-0b1909dd9dde",
   "metadata": {
    "tags": []
   },
   "outputs": [],
   "source": [
    "data_serial = data_serial[(data_serial['m']>=500)*(data_serial['n']>=500)]\n",
    "data_cuda = data_cuda[(data_cuda['m']>=500)*(data_cuda['n']>=500)]"
   ]
  },
  {
   "cell_type": "code",
   "execution_count": 5,
   "id": "abdc9edf-6099-47f5-b3c6-e062d287d8e3",
   "metadata": {
    "tags": []
   },
   "outputs": [],
   "source": [
    "ms = np.array([500, 1000, 5000, 10000, 50000, 100000])\n",
    "ns = np.array([500, 1000, 5000, 10000])"
   ]
  },
  {
   "cell_type": "code",
   "execution_count": 6,
   "id": "88a2882d-e832-4757-a0c2-009025244185",
   "metadata": {
    "tags": []
   },
   "outputs": [],
   "source": [
    "def avg(data):\n",
    "    res = np.full((len(ms), len(ns)), np.nan)\n",
    "    err = np.full((len(ms), len(ns)), np.nan)\n",
    "    for mi, m in enumerate(ms):\n",
    "        for ni, n in enumerate(ns):\n",
    "            res[mi,ni] = np.mean(data[(data['m']==m)*(data['n']==n)]['time [s]'].to_numpy())\n",
    "            err[mi,ni] = np.std(data[(data['m']==m)*(data['n']==n)]['time [s]'].to_numpy())\n",
    "    return res, err"
   ]
  },
  {
   "cell_type": "code",
   "execution_count": 7,
   "id": "56a675f7-c0d2-4a29-865d-c04d2fda4622",
   "metadata": {
    "tags": []
   },
   "outputs": [],
   "source": [
    "def speedup(serial, cuda):\n",
    "    res = np.full((len(ms), len(ns)), np.nan)\n",
    "    err = np.full((len(ms), len(ns)), np.nan)\n",
    "    avg_serial, std_serial = avg(serial)\n",
    "    avg_cuda, std_cuda = avg(cuda)\n",
    "    res = avg_serial/avg_cuda\n",
    "    err = (std_serial*avg_cuda + avg_serial*std_cuda) / avg_cuda**2\n",
    "    return res, err"
   ]
  },
  {
   "cell_type": "code",
   "execution_count": 8,
   "id": "5518374f-285b-4ade-87a5-8614eb12b5ac",
   "metadata": {
    "tags": []
   },
   "outputs": [],
   "source": [
    "avg_serial, std_serial = avg(data_serial)\n",
    "avg_cuda, std_cuda = avg(data_cuda)\n",
    "avg_speedup, err_speedup = speedup(data_serial, data_cuda)"
   ]
  },
  {
   "cell_type": "code",
   "execution_count": 13,
   "id": "a9d9b8f9-2f0c-49b8-81e2-dabd08138e60",
   "metadata": {
    "tags": []
   },
   "outputs": [
    {
     "data": {
      "text/plain": [
       "0.009218333333333334"
      ]
     },
     "execution_count": 13,
     "metadata": {},
     "output_type": "execute_result"
    }
   ],
   "source": [
    "avg_serial.min()"
   ]
  },
  {
   "cell_type": "code",
   "execution_count": 14,
   "id": "435fde50-0a78-4999-9815-b555baf6923f",
   "metadata": {
    "tags": []
   },
   "outputs": [
    {
     "name": "stderr",
     "output_type": "stream",
     "text": [
      "/tmp/ipykernel_26559/1746368984.py:5: UserWarning: FixedFormatter should only be used together with FixedLocator\n",
      "  ax[0].set_yticklabels([0, 500, 1000, 5000, 10000, 50000, 100000])\n",
      "/tmp/ipykernel_26559/1746368984.py:14: UserWarning: FixedFormatter should only be used together with FixedLocator\n",
      "  ax[1].set_yticklabels([0, 500, 1000, 5000, 10000, 50000, 100000])\n"
     ]
    },
    {
     "data": {
      "image/png": "[encoded data removed]",
      "text/plain": [
       "<Figure size 1200x700 with 3 Axes>"
      ]
     },
     "metadata": {},
     "output_type": "display_data"
    }
   ],
   "source": [
    "fig, ax = plt.subplots(1,2,figsize=(12,7))\n",
    "\n",
    "im = ax[0].imshow(avg_serial, interpolation='none', vmin=1e-3, vmax=100, norm='log',\n",
    "                  origin='lower', cmap='Oranges')\n",
    "ax[0].set_yticklabels([0, 500, 1000, 5000, 10000, 50000, 100000])\n",
    "ax[0].set_xticks([0, 1, 2, 3])\n",
    "ax[0].set_xticklabels([500, 1000, 5000, 10000])\n",
    "ax[0].set_ylabel('m')\n",
    "ax[0].set_xlabel('n')\n",
    "ax[0].set_title('Serial version')\n",
    "\n",
    "ax[1].imshow(avg_cuda, interpolation='none', vmin=1e-3, vmax=100, norm='log',\n",
    "                  origin='lower', cmap='Oranges')\n",
    "ax[1].set_yticklabels([0, 500, 1000, 5000, 10000, 50000, 100000])\n",
    "ax[1].set_xticks([0, 1, 2, 3])\n",
    "ax[1].set_xticklabels([500, 1000, 5000, 10000])\n",
    "# ax[1].set_ylabel('m')\n",
    "ax[1].set_xlabel('n')\n",
    "ax[1].set_title('CUDA version')\n",
    "\n",
    "cax = fig.add_axes([0.27, -0.025, 0.5, 0.05])\n",
    "cbar = fig.colorbar(im, cax=cax, orientation='horizontal', label='Time [s]')\n",
    "\n",
    "fig.savefig('../img/time.png', dpi=300, bbox_inches='tight')"
   ]
  },
  {
   "cell_type": "code",
   "execution_count": 15,
   "id": "72c31195-7d40-4f72-85fc-73ad3c9c34f6",
   "metadata": {
    "tags": []
   },
   "outputs": [
    {
     "name": "stderr",
     "output_type": "stream",
     "text": [
      "/tmp/ipykernel_26559/495414054.py:21: UserWarning: FixedFormatter should only be used together with FixedLocator\n",
      "  ax[0].set_yticklabels([0, 500, 1000, 5000, 10000, 50000, 100000])\n",
      "/tmp/ipykernel_26559/495414054.py:33: UserWarning: FixedFormatter should only be used together with FixedLocator\n",
      "  ax[1].set_yticklabels([0, 500, 1000, 5000, 10000, 50000, 100000])\n"
     ]
    },
    {
     "data": {
      "image/png": "[encoded data removed]",
      "text/plain": [
       "<Figure size 1200x700 with 4 Axes>"
      ]
     },
     "metadata": {},
     "output_type": "display_data"
    }
   ],
   "source": [
    "fig, ax = plt.subplots(1,2,figsize=(12,7))\n",
    "\n",
    "speedup_min = 0\n",
    "speedup_max = 1.4\n",
    "\n",
    "i0 = 0\n",
    "i1 = 1/1.4*256\n",
    "i2 = 256\n",
    "\n",
    "top = cm.get_cmap('Blues_r', int(1/speedup_max*256))\n",
    "bottom = cm.get_cmap('Oranges', int((speedup_max-1)/speedup_max*256))\n",
    "\n",
    "\n",
    "\n",
    "newcolors = np.vstack((top(np.linspace(0, 1, int(1/speedup_max*256))),\n",
    "                       bottom(np.linspace(0, 1, int((speedup_max-1)/speedup_max*256)))))\n",
    "newcmp = ListedColormap(newcolors, name='OrangeBlue')\n",
    "\n",
    "im1 = ax[0].imshow(avg_speedup, interpolation='none', vmin=speedup_min, vmax=speedup_max,\n",
    "                   norm='linear', origin='lower', cmap=newcmp)\n",
    "ax[0].set_yticklabels([0, 500, 1000, 5000, 10000, 50000, 100000])\n",
    "ax[0].set_xticks([0, 1, 2, 3])\n",
    "ax[0].set_xticklabels([500, 1000, 5000, 10000])\n",
    "ax[0].set_ylabel('m')\n",
    "ax[0].set_xlabel('n')\n",
    "ax[0].set_title('Speedup')\n",
    "\n",
    "cax1 = fig.add_axes([0.15, -0.025, 0.3, 0.05])\n",
    "cbar1 = fig.colorbar(im1, cax=cax1, orientation='horizontal')\n",
    "\n",
    "im2 = ax[1].imshow(err_speedup, interpolation='none', vmin=0, vmax=1e-2, norm='linear',\n",
    "                  origin='lower', cmap='Oranges')\n",
    "ax[1].set_yticklabels([0, 500, 1000, 5000, 10000, 50000, 100000])\n",
    "ax[1].set_xticks([0, 1, 2, 3])\n",
    "ax[1].set_xticklabels([500, 1000, 5000, 10000])\n",
    "# ax[1].set_ylabel('m')\n",
    "ax[1].set_xlabel('n')\n",
    "ax[1].set_title('Speedup error')\n",
    "\n",
    "cax2 = fig.add_axes([0.575, -0.025, 0.3, 0.05])\n",
    "cbar2 = fig.colorbar(im2, cax=cax2, orientation='horizontal')\n",
    "\n",
    "fig.savefig('../img/speedup.png', dpi=300, bbox_inches='tight')"
   ]
  },
  {
   "cell_type": "code",
   "execution_count": 17,
   "id": "ba42740a-d2dc-4bf9-90b1-62cddb06ecfd",
   "metadata": {
    "tags": []
   },
   "outputs": [
    {
     "data": {
      "text/html": [
       "<div>\n",
       "<style scoped>\n",
       "    .dataframe tbody tr th:only-of-type {\n",
       "        vertical-align: middle;\n",
       "    }\n",
       "\n",
       "    .dataframe tbody tr th {\n",
       "        vertical-align: top;\n",
       "    }\n",
       "\n",
       "    .dataframe thead th {\n",
       "        text-align: right;\n",
       "    }\n",
       "</style>\n",
       "<table border=\"1\" class=\"dataframe\">\n",
       "  <thead>\n",
       "    <tr style=\"text-align: right;\">\n",
       "      <th></th>\n",
       "      <th>experiment</th>\n",
       "      <th>m</th>\n",
       "      <th>n</th>\n",
       "      <th>time [s]</th>\n",
       "    </tr>\n",
       "  </thead>\n",
       "  <tbody>\n",
       "    <tr>\n",
       "      <th>24</th>\n",
       "      <td>1</td>\n",
       "      <td>500</td>\n",
       "      <td>500</td>\n",
       "      <td>0.009213</td>\n",
       "    </tr>\n",
       "    <tr>\n",
       "      <th>25</th>\n",
       "      <td>1</td>\n",
       "      <td>500</td>\n",
       "      <td>1000</td>\n",
       "      <td>0.018433</td>\n",
       "    </tr>\n",
       "    <tr>\n",
       "      <th>26</th>\n",
       "      <td>1</td>\n",
       "      <td>500</td>\n",
       "      <td>5000</td>\n",
       "      <td>0.093782</td>\n",
       "    </tr>\n",
       "    <tr>\n",
       "      <th>27</th>\n",
       "      <td>1</td>\n",
       "      <td>500</td>\n",
       "      <td>10000</td>\n",
       "      <td>0.189320</td>\n",
       "    </tr>\n",
       "    <tr>\n",
       "      <th>87</th>\n",
       "      <td>2</td>\n",
       "      <td>500</td>\n",
       "      <td>500</td>\n",
       "      <td>0.009230</td>\n",
       "    </tr>\n",
       "    <tr>\n",
       "      <th>88</th>\n",
       "      <td>2</td>\n",
       "      <td>500</td>\n",
       "      <td>1000</td>\n",
       "      <td>0.018444</td>\n",
       "    </tr>\n",
       "    <tr>\n",
       "      <th>89</th>\n",
       "      <td>2</td>\n",
       "      <td>500</td>\n",
       "      <td>5000</td>\n",
       "      <td>0.093721</td>\n",
       "    </tr>\n",
       "    <tr>\n",
       "      <th>90</th>\n",
       "      <td>2</td>\n",
       "      <td>500</td>\n",
       "      <td>10000</td>\n",
       "      <td>0.189423</td>\n",
       "    </tr>\n",
       "    <tr>\n",
       "      <th>150</th>\n",
       "      <td>3</td>\n",
       "      <td>500</td>\n",
       "      <td>500</td>\n",
       "      <td>0.009212</td>\n",
       "    </tr>\n",
       "    <tr>\n",
       "      <th>151</th>\n",
       "      <td>3</td>\n",
       "      <td>500</td>\n",
       "      <td>1000</td>\n",
       "      <td>0.018524</td>\n",
       "    </tr>\n",
       "    <tr>\n",
       "      <th>152</th>\n",
       "      <td>3</td>\n",
       "      <td>500</td>\n",
       "      <td>5000</td>\n",
       "      <td>0.093665</td>\n",
       "    </tr>\n",
       "    <tr>\n",
       "      <th>153</th>\n",
       "      <td>3</td>\n",
       "      <td>500</td>\n",
       "      <td>10000</td>\n",
       "      <td>0.189106</td>\n",
       "    </tr>\n",
       "  </tbody>\n",
       "</table>\n",
       "</div>"
      ],
      "text/plain": [
       "     experiment    m      n  time [s]\n",
       "24            1  500    500  0.009213\n",
       "25            1  500   1000  0.018433\n",
       "26            1  500   5000  0.093782\n",
       "27            1  500  10000  0.189320\n",
       "87            2  500    500  0.009230\n",
       "88            2  500   1000  0.018444\n",
       "89            2  500   5000  0.093721\n",
       "90            2  500  10000  0.189423\n",
       "150           3  500    500  0.009212\n",
       "151           3  500   1000  0.018524\n",
       "152           3  500   5000  0.093665\n",
       "153           3  500  10000  0.189106"
      ]
     },
     "execution_count": 17,
     "metadata": {},
     "output_type": "execute_result"
    }
   ],
   "source": [
    "data_serial[data_serial['m']==500]"
   ]
  }
 ],
 "metadata": {
  "kernelspec": {
   "display_name": "Python 3 (ipykernel)",
   "language": "python",
   "name": "python3"
  },
  "language_info": {
   "codemirror_mode": {
    "name": "ipython",
    "version": 3
   },
   "file_extension": ".py",
   "mimetype": "text/x-python",
   "name": "python",
   "nbconvert_exporter": "python",
   "pygments_lexer": "ipython3",
   "version": "3.10.6"
  }
 },
 "nbformat": 4,
 "nbformat_minor": 5
}
